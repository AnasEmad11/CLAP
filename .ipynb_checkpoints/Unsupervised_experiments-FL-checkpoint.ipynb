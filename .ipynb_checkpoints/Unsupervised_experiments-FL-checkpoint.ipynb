{
 "cells": [
  {
   "cell_type": "code",
   "execution_count": 1,
   "metadata": {},
   "outputs": [],
   "source": [
    "import os\n",
    "import numpy as np\n",
    "import matplotlib.pyplot as plt\n",
    "import pandas as pd\n",
    "# probability model\n",
    "from scipy.stats import multivariate_normal"
   ]
  },
  {
   "cell_type": "code",
   "execution_count": 6,
   "metadata": {},
   "outputs": [
    {
     "data": {
      "text/html": [
       "<div>\n",
       "<style scoped>\n",
       "    .dataframe tbody tr th:only-of-type {\n",
       "        vertical-align: middle;\n",
       "    }\n",
       "\n",
       "    .dataframe tbody tr th {\n",
       "        vertical-align: top;\n",
       "    }\n",
       "\n",
       "    .dataframe thead th {\n",
       "        text-align: right;\n",
       "    }\n",
       "</style>\n",
       "<table border=\"1\" class=\"dataframe\">\n",
       "  <thead>\n",
       "    <tr style=\"text-align: right;\">\n",
       "      <th></th>\n",
       "      <th>window size</th>\n",
       "      <th>AUC(%)</th>\n",
       "    </tr>\n",
       "  </thead>\n",
       "  <tbody>\n",
       "    <tr>\n",
       "      <th>0</th>\n",
       "      <td>15</td>\n",
       "      <td>79.54</td>\n",
       "    </tr>\n",
       "    <tr>\n",
       "      <th>1</th>\n",
       "      <td>16</td>\n",
       "      <td>79.68</td>\n",
       "    </tr>\n",
       "    <tr>\n",
       "      <th>2</th>\n",
       "      <td>17</td>\n",
       "      <td>79.80</td>\n",
       "    </tr>\n",
       "    <tr>\n",
       "      <th>3</th>\n",
       "      <td>18</td>\n",
       "      <td>80.01</td>\n",
       "    </tr>\n",
       "    <tr>\n",
       "      <th>4</th>\n",
       "      <td>19</td>\n",
       "      <td>80.34</td>\n",
       "    </tr>\n",
       "    <tr>\n",
       "      <th>5</th>\n",
       "      <td>20</td>\n",
       "      <td>80.65</td>\n",
       "    </tr>\n",
       "    <tr>\n",
       "      <th>6</th>\n",
       "      <td>21</td>\n",
       "      <td>80.53</td>\n",
       "    </tr>\n",
       "    <tr>\n",
       "      <th>7</th>\n",
       "      <td>22</td>\n",
       "      <td>80.31</td>\n",
       "    </tr>\n",
       "    <tr>\n",
       "      <th>8</th>\n",
       "      <td>23</td>\n",
       "      <td>80.15</td>\n",
       "    </tr>\n",
       "    <tr>\n",
       "      <th>9</th>\n",
       "      <td>24</td>\n",
       "      <td>79.98</td>\n",
       "    </tr>\n",
       "    <tr>\n",
       "      <th>10</th>\n",
       "      <td>25</td>\n",
       "      <td>79.81</td>\n",
       "    </tr>\n",
       "  </tbody>\n",
       "</table>\n",
       "</div>"
      ],
      "text/plain": [
       "    window size  AUC(%)\n",
       "0            15   79.54\n",
       "1            16   79.68\n",
       "2            17   79.80\n",
       "3            18   80.01\n",
       "4            19   80.34\n",
       "5            20   80.65\n",
       "6            21   80.53\n",
       "7            22   80.31\n",
       "8            23   80.15\n",
       "9            24   79.98\n",
       "10           25   79.81"
      ]
     },
     "execution_count": 6,
     "metadata": {},
     "output_type": "execute_result"
    }
   ],
   "source": [
    "data = pd.read_csv('windowsize.csv')\n",
    "data"
   ]
  },
  {
   "cell_type": "code",
   "execution_count": 10,
   "metadata": {},
   "outputs": [],
   "source": [
    "# rc params plot font size\n",
    "plt.rcParams.update({'font.size': 16})\n"
   ]
  },
  {
   "cell_type": "code",
   "execution_count": 44,
   "metadata": {},
   "outputs": [
    {
     "data": {
      "image/png": "[encoded data removed]",
      "text/plain": [
       "<Figure size 432x288 with 1 Axes>"
      ]
     },
     "metadata": {
      "needs_background": "light"
     },
     "output_type": "display_data"
    }
   ],
   "source": [
    "plt.plot(data['window size'], data['AUC(%)'], label='AUC', marker='o')\n",
    "# plt.title('AUC vs window size')\n",
    "plt.ylim(79, 81.5)\n",
    "plt.subplots_adjust(left=0, right=1, top=0.3, bottom=0.0)\n",
    "plt.xlabel('window size')\n",
    "plt.ylabel('AUC(%)')\n",
    "# show data labels \n",
    "# plt.legend()\n",
    "for (xi, yi) in zip(data['window size'][5:6], data['AUC(%)'][5:6]):\n",
    "    plt.text(xi, yi, yi, va='bottom', ha='center')\n",
    "\n",
    "for (xi, yi) in zip(data['window size'][0:1], data['AUC(%)'][0:1]):\n",
    "    plt.text(xi, yi, yi, va='bottom', ha='center')\n",
    "for (xi, yi) in zip(data['window size'][10:11], data['AUC(%)'][10:11]):\n",
    "    plt.text(xi, yi, yi, va='bottom', ha='center')\n",
    "\n",
    "# safe fig as pdf with high dpi\n",
    "plt.savefig('AUC.pdf')"
   ]
  },
  {
   "cell_type": "code",
   "execution_count": 3,
   "metadata": {},
   "outputs": [
    {
     "data": {
      "text/plain": [
       "(779951, 10, 2048)"
      ]
     },
     "execution_count": 3,
     "metadata": {},
     "output_type": "execute_result"
    }
   ],
   "source": [
    "train_data = np.load(\"/home/anas.al-lahham/Baseline_AD/RFS_AD/iterative_UCF_labels/concat_UCF.npy\") #UCF\n",
    "# train_data = np.load(\"/home/anas.al-lahham/AD_Unsupervised/concat_XD_I3D.npy\") #XD\n",
    "train_data.shape\n"
   ]
  },
  {
   "cell_type": "code",
   "execution_count": 2,
   "metadata": {},
   "outputs": [
    {
     "ename": "NameError",
     "evalue": "name 'train_data' is not defined",
     "output_type": "error",
     "traceback": [
      "\u001b[0;31m---------------------------------------------------------------------------\u001b[0m",
      "\u001b[0;31mNameError\u001b[0m                                 Traceback (most recent call last)",
      "\u001b[1;32m/home/anas.al-lahham/AD_Unsupervised/Unsupervised_experiments.ipynb Cell 6\u001b[0m in \u001b[0;36m<cell line: 1>\u001b[0;34m()\u001b[0m\n\u001b[0;32m----> <a href='vscode-notebook-cell://ssh-remote%2B10.127.30.202/home/anas.al-lahham/AD_Unsupervised/Unsupervised_experiments.ipynb#Y163sdnNjb2RlLXJlbW90ZQ%3D%3D?line=0'>1</a>\u001b[0m train_data\u001b[39m.\u001b[39mshape\n",
      "\u001b[0;31mNameError\u001b[0m: name 'train_data' is not defined"
     ]
    }
   ],
   "source": [
    "train_data.shape"
   ]
  },
  {
   "cell_type": "code",
   "execution_count": 410,
   "metadata": {},
   "outputs": [],
   "source": [
    "train_data = train_data[:,0,0:1024]\n",
    "# train_data = []"
   ]
  },
  {
   "cell_type": "code",
   "execution_count": 4,
   "metadata": {},
   "outputs": [],
   "source": [
    "nalist = np.load(\"nalist.npy\") #UCF\n",
    "# nalist = np.load(\"nalist_XD.npy\") #XD"
   ]
  },
  {
   "cell_type": "code",
   "execution_count": 5,
   "metadata": {},
   "outputs": [],
   "source": [
    "def estimate_gauss(X):\n",
    "    m = X.shape[0]   # using only first dimension as we know it has only one feature - l2 norm\n",
    "    \n",
    "    mu = np.mean(X, axis=0)\n",
    "    var = np.cov(X.T)\n",
    "    \n",
    "    return mu, var"
   ]
  },
  {
   "cell_type": "code",
   "execution_count": 6,
   "metadata": {},
   "outputs": [
    {
     "data": {
      "text/plain": [
       "1609"
      ]
     },
     "execution_count": 6,
     "metadata": {},
     "output_type": "execute_result"
    }
   ],
   "source": [
    "new_repr = []\n",
    "for i, (fromid, toid) in enumerate(nalist):\n",
    "    new_repr.append(train_data[fromid:toid])\n",
    "\n",
    "len(new_repr)"
   ]
  },
  {
   "cell_type": "code",
   "execution_count": 7,
   "metadata": {},
   "outputs": [
    {
     "data": {
      "text/plain": [
       "(57, 10, 2048)"
      ]
     },
     "execution_count": 7,
     "metadata": {},
     "output_type": "execute_result"
    }
   ],
   "source": [
    "new_repr[i].shape"
   ]
  },
  {
   "cell_type": "code",
   "execution_count": 7,
   "metadata": {},
   "outputs": [],
   "source": [
    "def get_matrix(data):\n",
    "    # 1st: L2 norm [Euclidean Distance]\n",
    "    # l2_norm = np.sum(np.square(data), axis=2)\n",
    "    l2_norm = np.sum(np.square(data), axis=2)\n",
    "    n_train_crop_l2_norm_mean = np.mean(l2_norm, axis= 1)\n",
    "    # print(n_train_crop_l2_norm_mean.shape)\n",
    "    \n",
    "    # n_train_crop_l2_norm_mean_normal = Transform_normal(n_train_crop_l2_norm_mean)\n",
    "    return n_train_crop_l2_norm_mean"
   ]
  },
  {
   "cell_type": "code",
   "execution_count": 8,
   "metadata": {},
   "outputs": [],
   "source": [
    "params = []\n",
    "for i in range(len(new_repr)):\n",
    "    # l2_norm = np.sum(np.square(new_repr[i]), axis=2)\n",
    "    # mean_l2 =  np.mean(l2_norm, axis= 1)\n",
    "    param = get_matrix(new_repr[i])\n",
    "    mu, var = estimate_gauss(param)\n",
    "    # print( mu, var )\n",
    "    # l2mean = np.sum(np.square(new_repr[i]), a\n",
    "    # xis=1).mean()\n",
    "    # mmean = np.mean(new_repr[i], axis=0)\n",
    "    params.append((mu, var, ))"
   ]
  },
  {
   "cell_type": "code",
   "execution_count": 9,
   "metadata": {},
   "outputs": [
    {
     "data": {
      "text/plain": [
       "(1609, 2)"
      ]
     },
     "execution_count": 9,
     "metadata": {},
     "output_type": "execute_result"
    }
   ],
   "source": [
    "np.array(params).shape"
   ]
  },
  {
   "cell_type": "code",
   "execution_count": 19,
   "metadata": {},
   "outputs": [
    {
     "name": "stdout",
     "output_type": "stream",
     "text": [
      "427 0.2653822249844624\n",
      "The threshold of the score is -23.32\n",
      "49\n"
     ]
    }
   ],
   "source": [
    "from sklearn.mixture import GaussianMixture\n",
    "import time\n",
    "\n",
    "\n",
    "gmm = GaussianMixture(n_components=2, max_iter=50, random_state=0, covariance_type='spherical')\n",
    "# gmm_scores = gmm.score_samples(params)\n",
    "labels = gmm.fit_predict(params)\n",
    "\n",
    "y_gmm = gmm.fit_predict(params)\n",
    "print(y_gmm.sum(), y_gmm.sum() / len(y_gmm))\n",
    "\n",
    "score = y_gmm \n",
    "score = gmm.score_samples(params) \n",
    "pct_threshold = np.percentile(score, 3)\n",
    "print(f'The threshold of the score is {pct_threshold:.2f}') \n",
    "res = np.array([1 if x < pct_threshold else 0 for x in score]) \n",
    "print(res.sum())"
   ]
  },
  {
   "cell_type": "code",
   "execution_count": 20,
   "metadata": {},
   "outputs": [
    {
     "data": {
      "text/plain": [
       "((1560,), (49,))"
      ]
     },
     "execution_count": 20,
     "metadata": {},
     "output_type": "execute_result"
    }
   ],
   "source": [
    "abnormal_portion = np.where(res == 1)[0]\n",
    "normal_portion = np.where(res == 0)[0]\n",
    "normal_portion.shape, abnormal_portion.shape"
   ]
  },
  {
   "cell_type": "code",
   "execution_count": 438,
   "metadata": {},
   "outputs": [
    {
     "data": {
      "text/plain": [
       "((1355, 2), (254, 2))"
      ]
     },
     "execution_count": 438,
     "metadata": {},
     "output_type": "execute_result"
    }
   ],
   "source": [
    "n_params = np.array(params)[normal_portion]\n",
    "a_params = np.array(params)[abnormal_portion]\n",
    "n_params.shape, a_params.shape"
   ]
  },
  {
   "cell_type": "code",
   "execution_count": 439,
   "metadata": {},
   "outputs": [],
   "source": [
    "# gmm1 = GaussianMixture(n_components=2, max_iter=100,covariance_type= 'spherical', tol=1e-9)\n",
    "# gmm_scores = gmm1.score_samples(n_params)\n",
    "labels1 = gmm.fit_predict(n_params)"
   ]
  },
  {
   "cell_type": "code",
   "execution_count": 440,
   "metadata": {},
   "outputs": [
    {
     "data": {
      "text/plain": [
       "((818,), (537,))"
      ]
     },
     "execution_count": 440,
     "metadata": {},
     "output_type": "execute_result"
    }
   ],
   "source": [
    "np.where(labels1 ==0)[0].shape, np.where(labels1 ==1)[0].shape"
   ]
  },
  {
   "cell_type": "code",
   "execution_count": 441,
   "metadata": {},
   "outputs": [
    {
     "data": {
      "text/plain": [
       "((1609,), (1355,))"
      ]
     },
     "execution_count": 441,
     "metadata": {},
     "output_type": "execute_result"
    }
   ],
   "source": [
    "video_labels_1 = labels\n",
    "video_labels_2 = labels1\n",
    "video_labels_1.shape, video_labels_2.shape"
   ]
  },
  {
   "cell_type": "code",
   "execution_count": 424,
   "metadata": {},
   "outputs": [
    {
     "data": {
      "text/plain": [
       "array([0, 0, 0, ..., 0, 0, 0])"
      ]
     },
     "execution_count": 424,
     "metadata": {},
     "output_type": "execute_result"
    }
   ],
   "source": [
    "video_labels_2\n"
   ]
  },
  {
   "cell_type": "code",
   "execution_count": 442,
   "metadata": {},
   "outputs": [
    {
     "data": {
      "text/plain": [
       "((1609,), (1609,))"
      ]
     },
     "execution_count": 442,
     "metadata": {},
     "output_type": "execute_result"
    }
   ],
   "source": [
    "a = np.full(video_labels_1.shape[0] - video_labels_2.shape[0] ,1)\n",
    "video_labels_2 = np.concatenate((video_labels_2, a))\n",
    "video_labels_1.shape, video_labels_2.shape"
   ]
  },
  {
   "cell_type": "code",
   "execution_count": 443,
   "metadata": {},
   "outputs": [
    {
     "data": {
      "text/plain": [
       "((818,), (791,))"
      ]
     },
     "execution_count": 443,
     "metadata": {},
     "output_type": "execute_result"
    }
   ],
   "source": [
    "abnormal_portion = np.where(video_labels_2 == 0)[0]\n",
    "normal_portion = np.where(video_labels_2 == 1)[0]\n",
    "abnormal_portion.shape, normal_portion.shape"
   ]
  },
  {
   "cell_type": "code",
   "execution_count": 201,
   "metadata": {},
   "outputs": [],
   "source": [
    "abnormal_portion = np.where(video_labels_2 == 1)[0]\n",
    "normal_portion = np.where(video_labels_2 == 0)[0]"
   ]
  },
  {
   "cell_type": "code",
   "execution_count": 21,
   "metadata": {},
   "outputs": [
    {
     "data": {
      "text/plain": [
       "(49, 1560)"
      ]
     },
     "execution_count": 21,
     "metadata": {},
     "output_type": "execute_result"
    }
   ],
   "source": [
    "abag = list(zip(list(np.array(params)[abnormal_portion]), abnormal_portion))\n",
    "nbag = list(zip(list(np.array(params)[normal_portion]), normal_portion))\n",
    "len(abag), len(nbag)\n"
   ]
  },
  {
   "cell_type": "code",
   "execution_count": 22,
   "metadata": {},
   "outputs": [],
   "source": [
    "import warnings\n",
    "warnings.filterwarnings(\"ignore\", category=np.VisibleDeprecationWarning) "
   ]
  },
  {
   "cell_type": "code",
   "execution_count": 23,
   "metadata": {},
   "outputs": [
    {
     "name": "stdout",
     "output_type": "stream",
     "text": [
      "The threshold of the score in step 1 is -23.07, abnormal part: 47\n",
      "The threshold of the score in step 2 is -22.47, abnormal part: 46\n",
      "The threshold of the score in step 3 is -21.85, abnormal part: 44\n",
      "The threshold of the score in step 4 is -21.65, abnormal part: 43\n",
      "The threshold of the score in step 5 is -21.43, abnormal part: 42\n",
      "The threshold of the score in step 6 is -21.03, abnormal part: 41\n",
      "The threshold of the score in step 7 is -20.75, abnormal part: 39\n",
      "The threshold of the score in step 8 is -21.12, abnormal part: 38\n",
      "The threshold of the score in step 9 is -20.26, abnormal part: 37\n",
      "The threshold of the score in step 10 is -19.88, abnormal part: 36\n",
      "The threshold of the score in step 11 is -19.51, abnormal part: 35\n",
      "The threshold of the score in step 12 is -19.17, abnormal part: 34\n",
      "The threshold of the score in step 13 is -19.05, abnormal part: 33\n",
      "The threshold of the score in step 14 is -18.96, abnormal part: 31\n",
      "The threshold of the score in step 15 is -19.00, abnormal part: 31\n",
      "The threshold of the score in step 16 is -18.88, abnormal part: 30\n",
      "The threshold of the score in step 17 is -18.74, abnormal part: 29\n",
      "The threshold of the score in step 18 is -18.48, abnormal part: 28\n",
      "The threshold of the score in step 19 is -18.29, abnormal part: 27\n",
      "The threshold of the score in step 20 is -18.26, abnormal part: 27\n",
      "The threshold of the score in step 21 is -18.11, abnormal part: 26\n",
      "The threshold of the score in step 22 is -17.95, abnormal part: 25\n",
      "0.5994224548339844\n"
     ]
    }
   ],
   "source": [
    "nu = 1.0\n",
    "step = 1\n",
    "import time\n",
    "start = time.time()\n",
    "while len(abag) / len(nbag) < nu:\n",
    "    \n",
    "    temp_bag = nbag\n",
    "    y_gmm = gmm.fit_predict([list(x[0]) for x in np.array(temp_bag)])\n",
    "    score = y_gmm \n",
    "    score = gmm.score_samples([list(x[0]) for x in np.array(temp_bag)]) \n",
    "    pct_threshold = np.percentile(score, 3) \n",
    "    res = np.array([1 if x < pct_threshold else 0 for x in score]) \n",
    "    print(f'The threshold of the score in step {step} is {pct_threshold:.2f}, abnormal part: {res.sum()}') \n",
    "    \n",
    "    abnormal_portion = np.where(res == 1)[0]\n",
    "    normal_portion = np.where(res == 0)[0]\n",
    "    \n",
    "    abag += [(x[0], x[1]) for x in np.array(temp_bag)[abnormal_portion]]\n",
    "    nbag = [(x[0], x[1]) for x in np.array(temp_bag)[normal_portion]]\n",
    "\n",
    "    step += 1\n",
    "\n",
    "print(time.time() - start)"
   ]
  },
  {
   "cell_type": "code",
   "execution_count": 358,
   "metadata": {},
   "outputs": [
    {
     "data": {
      "text/plain": [
       "(13, 799)"
      ]
     },
     "execution_count": 358,
     "metadata": {},
     "output_type": "execute_result"
    }
   ],
   "source": [
    "\n",
    "abnormal_portion = np.where(res == 1)[0]\n",
    "normal_portion = np.where(res == 0)[0]\n",
    "abag = list(zip(list(np.array(params)[abnormal_portion]), abnormal_portion))\n",
    "nbag = list(zip(list(np.array(params)[normal_portion]), normal_portion))\n",
    "len(abag), len(nbag)\n",
    "\n"
   ]
  },
  {
   "cell_type": "code",
   "execution_count": 370,
   "metadata": {},
   "outputs": [
    {
     "ename": "KeyboardInterrupt",
     "evalue": "",
     "output_type": "error",
     "traceback": [
      "\u001b[0;31m---------------------------------------------------------------------------\u001b[0m",
      "\u001b[0;31mKeyboardInterrupt\u001b[0m                         Traceback (most recent call last)",
      "\u001b[1;32m/home/anas.al-lahham/AD_Unsupervised/Unsupervised_experiments.ipynb Cell 25\u001b[0m in \u001b[0;36m<cell line: 2>\u001b[0;34m()\u001b[0m\n\u001b[1;32m      <a href='vscode-notebook-cell://ssh-remote%2B10.127.30.202/home/anas.al-lahham/AD_Unsupervised/Unsupervised_experiments.ipynb#Y204sdnNjb2RlLXJlbW90ZQ%3D%3D?line=1'>2</a>\u001b[0m \u001b[39mwhile\u001b[39;00m \u001b[39mlen\u001b[39m(abag) \u001b[39m/\u001b[39m \u001b[39mlen\u001b[39m(nbag) \u001b[39m>\u001b[39m nu:\n\u001b[1;32m      <a href='vscode-notebook-cell://ssh-remote%2B10.127.30.202/home/anas.al-lahham/AD_Unsupervised/Unsupervised_experiments.ipynb#Y204sdnNjb2RlLXJlbW90ZQ%3D%3D?line=3'>4</a>\u001b[0m     temp_bag \u001b[39m=\u001b[39m abag\n\u001b[0;32m----> <a href='vscode-notebook-cell://ssh-remote%2B10.127.30.202/home/anas.al-lahham/AD_Unsupervised/Unsupervised_experiments.ipynb#Y204sdnNjb2RlLXJlbW90ZQ%3D%3D?line=4'>5</a>\u001b[0m     y_gmm \u001b[39m=\u001b[39m gmm\u001b[39m.\u001b[39;49mfit_predict([\u001b[39mlist\u001b[39;49m(x[\u001b[39m0\u001b[39;49m]) \u001b[39mfor\u001b[39;49;00m x \u001b[39min\u001b[39;49;00m np\u001b[39m.\u001b[39;49marray(temp_bag)])\n\u001b[1;32m      <a href='vscode-notebook-cell://ssh-remote%2B10.127.30.202/home/anas.al-lahham/AD_Unsupervised/Unsupervised_experiments.ipynb#Y204sdnNjb2RlLXJlbW90ZQ%3D%3D?line=5'>6</a>\u001b[0m     \u001b[39m# score = y_gmm \u001b[39;00m\n\u001b[1;32m      <a href='vscode-notebook-cell://ssh-remote%2B10.127.30.202/home/anas.al-lahham/AD_Unsupervised/Unsupervised_experiments.ipynb#Y204sdnNjb2RlLXJlbW90ZQ%3D%3D?line=6'>7</a>\u001b[0m     \u001b[39m# score = gmm.score_samples([list(x[0]) for x in np.array(temp_bag)]) \u001b[39;00m\n\u001b[1;32m      <a href='vscode-notebook-cell://ssh-remote%2B10.127.30.202/home/anas.al-lahham/AD_Unsupervised/Unsupervised_experiments.ipynb#Y204sdnNjb2RlLXJlbW90ZQ%3D%3D?line=7'>8</a>\u001b[0m     \u001b[39m# pct_threshold = np.percentile(score, 1.5) \u001b[39;00m\n\u001b[1;32m      <a href='vscode-notebook-cell://ssh-remote%2B10.127.30.202/home/anas.al-lahham/AD_Unsupervised/Unsupervised_experiments.ipynb#Y204sdnNjb2RlLXJlbW90ZQ%3D%3D?line=8'>9</a>\u001b[0m     \u001b[39m# res = np.array([1 if x < pct_threshold else 0 for x in score]) \u001b[39;00m\n\u001b[1;32m     <a href='vscode-notebook-cell://ssh-remote%2B10.127.30.202/home/anas.al-lahham/AD_Unsupervised/Unsupervised_experiments.ipynb#Y204sdnNjb2RlLXJlbW90ZQ%3D%3D?line=9'>10</a>\u001b[0m     \u001b[39m# print(f'The threshold of the score in step {step} is {pct_threshold:.2f}, abnormal part: {res.sum()}') \u001b[39;00m\n\u001b[1;32m     <a href='vscode-notebook-cell://ssh-remote%2B10.127.30.202/home/anas.al-lahham/AD_Unsupervised/Unsupervised_experiments.ipynb#Y204sdnNjb2RlLXJlbW90ZQ%3D%3D?line=11'>12</a>\u001b[0m     abnormal_portion \u001b[39m=\u001b[39m np\u001b[39m.\u001b[39mwhere(y_gmm \u001b[39m==\u001b[39m \u001b[39m0\u001b[39m)[\u001b[39m0\u001b[39m]\n",
      "File \u001b[0;32m~/.conda/envs/cloned_ADV8/lib/python3.10/site-packages/sklearn/base.py:1151\u001b[0m, in \u001b[0;36m_fit_context.<locals>.decorator.<locals>.wrapper\u001b[0;34m(estimator, *args, **kwargs)\u001b[0m\n\u001b[1;32m   1144\u001b[0m     estimator\u001b[39m.\u001b[39m_validate_params()\n\u001b[1;32m   1146\u001b[0m \u001b[39mwith\u001b[39;00m config_context(\n\u001b[1;32m   1147\u001b[0m     skip_parameter_validation\u001b[39m=\u001b[39m(\n\u001b[1;32m   1148\u001b[0m         prefer_skip_nested_validation \u001b[39mor\u001b[39;00m global_skip_validation\n\u001b[1;32m   1149\u001b[0m     )\n\u001b[1;32m   1150\u001b[0m ):\n\u001b[0;32m-> 1151\u001b[0m     \u001b[39mreturn\u001b[39;00m fit_method(estimator, \u001b[39m*\u001b[39;49margs, \u001b[39m*\u001b[39;49m\u001b[39m*\u001b[39;49mkwargs)\n",
      "File \u001b[0;32m~/.conda/envs/cloned_ADV8/lib/python3.10/site-packages/sklearn/mixture/_base.py:247\u001b[0m, in \u001b[0;36mBaseMixture.fit_predict\u001b[0;34m(self, X, y)\u001b[0m\n\u001b[1;32m    244\u001b[0m prev_lower_bound \u001b[39m=\u001b[39m lower_bound\n\u001b[1;32m    246\u001b[0m log_prob_norm, log_resp \u001b[39m=\u001b[39m \u001b[39mself\u001b[39m\u001b[39m.\u001b[39m_e_step(X)\n\u001b[0;32m--> 247\u001b[0m \u001b[39mself\u001b[39;49m\u001b[39m.\u001b[39;49m_m_step(X, log_resp)\n\u001b[1;32m    248\u001b[0m lower_bound \u001b[39m=\u001b[39m \u001b[39mself\u001b[39m\u001b[39m.\u001b[39m_compute_lower_bound(log_resp, log_prob_norm)\n\u001b[1;32m    250\u001b[0m change \u001b[39m=\u001b[39m lower_bound \u001b[39m-\u001b[39m prev_lower_bound\n",
      "File \u001b[0;32m~/.conda/envs/cloned_ADV8/lib/python3.10/site-packages/sklearn/mixture/_gaussian_mixture.py:751\u001b[0m, in \u001b[0;36mGaussianMixture._m_step\u001b[0;34m(self, X, log_resp)\u001b[0m\n\u001b[1;32m    740\u001b[0m \u001b[39mdef\u001b[39;00m \u001b[39m_m_step\u001b[39m(\u001b[39mself\u001b[39m, X, log_resp):\n\u001b[1;32m    741\u001b[0m     \u001b[39m\"\"\"M step.\u001b[39;00m\n\u001b[1;32m    742\u001b[0m \n\u001b[1;32m    743\u001b[0m \u001b[39m    Parameters\u001b[39;00m\n\u001b[0;32m   (...)\u001b[0m\n\u001b[1;32m    749\u001b[0m \u001b[39m        the point of each sample in X.\u001b[39;00m\n\u001b[1;32m    750\u001b[0m \u001b[39m    \"\"\"\u001b[39;00m\n\u001b[0;32m--> 751\u001b[0m     \u001b[39mself\u001b[39m\u001b[39m.\u001b[39mweights_, \u001b[39mself\u001b[39m\u001b[39m.\u001b[39mmeans_, \u001b[39mself\u001b[39m\u001b[39m.\u001b[39mcovariances_ \u001b[39m=\u001b[39m _estimate_gaussian_parameters(\n\u001b[1;32m    752\u001b[0m         X, np\u001b[39m.\u001b[39;49mexp(log_resp), \u001b[39mself\u001b[39;49m\u001b[39m.\u001b[39;49mreg_covar, \u001b[39mself\u001b[39;49m\u001b[39m.\u001b[39;49mcovariance_type\n\u001b[1;32m    753\u001b[0m     )\n\u001b[1;32m    754\u001b[0m     \u001b[39mself\u001b[39m\u001b[39m.\u001b[39mweights_ \u001b[39m/\u001b[39m\u001b[39m=\u001b[39m \u001b[39mself\u001b[39m\u001b[39m.\u001b[39mweights_\u001b[39m.\u001b[39msum()\n\u001b[1;32m    755\u001b[0m     \u001b[39mself\u001b[39m\u001b[39m.\u001b[39mprecisions_cholesky_ \u001b[39m=\u001b[39m _compute_precision_cholesky(\n\u001b[1;32m    756\u001b[0m         \u001b[39mself\u001b[39m\u001b[39m.\u001b[39mcovariances_, \u001b[39mself\u001b[39m\u001b[39m.\u001b[39mcovariance_type\n\u001b[1;32m    757\u001b[0m     )\n",
      "File \u001b[0;32m~/.conda/envs/cloned_ADV8/lib/python3.10/site-packages/sklearn/mixture/_gaussian_mixture.py:288\u001b[0m, in \u001b[0;36m_estimate_gaussian_parameters\u001b[0;34m(X, resp, reg_covar, covariance_type)\u001b[0m\n\u001b[1;32m    259\u001b[0m \u001b[39mdef\u001b[39;00m \u001b[39m_estimate_gaussian_parameters\u001b[39m(X, resp, reg_covar, covariance_type):\n\u001b[1;32m    260\u001b[0m     \u001b[39m\"\"\"Estimate the Gaussian distribution parameters.\u001b[39;00m\n\u001b[1;32m    261\u001b[0m \n\u001b[1;32m    262\u001b[0m \u001b[39m    Parameters\u001b[39;00m\n\u001b[0;32m   (...)\u001b[0m\n\u001b[1;32m    286\u001b[0m \u001b[39m        The shape depends of the covariance_type.\u001b[39;00m\n\u001b[1;32m    287\u001b[0m \u001b[39m    \"\"\"\u001b[39;00m\n\u001b[0;32m--> 288\u001b[0m     nk \u001b[39m=\u001b[39m resp\u001b[39m.\u001b[39;49msum(axis\u001b[39m=\u001b[39;49m\u001b[39m0\u001b[39;49m) \u001b[39m+\u001b[39m \u001b[39m10\u001b[39m \u001b[39m*\u001b[39m np\u001b[39m.\u001b[39mfinfo(resp\u001b[39m.\u001b[39mdtype)\u001b[39m.\u001b[39meps\n\u001b[1;32m    289\u001b[0m     means \u001b[39m=\u001b[39m np\u001b[39m.\u001b[39mdot(resp\u001b[39m.\u001b[39mT, X) \u001b[39m/\u001b[39m nk[:, np\u001b[39m.\u001b[39mnewaxis]\n\u001b[1;32m    290\u001b[0m     covariances \u001b[39m=\u001b[39m {\n\u001b[1;32m    291\u001b[0m         \u001b[39m\"\u001b[39m\u001b[39mfull\u001b[39m\u001b[39m\"\u001b[39m: _estimate_gaussian_covariances_full,\n\u001b[1;32m    292\u001b[0m         \u001b[39m\"\u001b[39m\u001b[39mtied\u001b[39m\u001b[39m\"\u001b[39m: _estimate_gaussian_covariances_tied,\n\u001b[1;32m    293\u001b[0m         \u001b[39m\"\u001b[39m\u001b[39mdiag\u001b[39m\u001b[39m\"\u001b[39m: _estimate_gaussian_covariances_diag,\n\u001b[1;32m    294\u001b[0m         \u001b[39m\"\u001b[39m\u001b[39mspherical\u001b[39m\u001b[39m\"\u001b[39m: _estimate_gaussian_covariances_spherical,\n\u001b[1;32m    295\u001b[0m     }[covariance_type](resp, X, nk, means, reg_covar)\n",
      "File \u001b[0;32m~/.conda/envs/cloned_ADV8/lib/python3.10/site-packages/numpy/core/_methods.py:48\u001b[0m, in \u001b[0;36m_sum\u001b[0;34m(a, axis, dtype, out, keepdims, initial, where)\u001b[0m\n\u001b[1;32m     46\u001b[0m \u001b[39mdef\u001b[39;00m \u001b[39m_sum\u001b[39m(a, axis\u001b[39m=\u001b[39m\u001b[39mNone\u001b[39;00m, dtype\u001b[39m=\u001b[39m\u001b[39mNone\u001b[39;00m, out\u001b[39m=\u001b[39m\u001b[39mNone\u001b[39;00m, keepdims\u001b[39m=\u001b[39m\u001b[39mFalse\u001b[39;00m,\n\u001b[1;32m     47\u001b[0m          initial\u001b[39m=\u001b[39m_NoValue, where\u001b[39m=\u001b[39m\u001b[39mTrue\u001b[39;00m):\n\u001b[0;32m---> 48\u001b[0m     \u001b[39mreturn\u001b[39;00m umr_sum(a, axis, dtype, out, keepdims, initial, where)\n",
      "\u001b[0;31mKeyboardInterrupt\u001b[0m: "
     ]
    }
   ],
   "source": [
    "step = 1\n",
    "while len(abag) / len(nbag) < nu:\n",
    "    \n",
    "    temp_bag = nbag\n",
    "    y_gmm = gmm.fit_predict([list(x[0]) for x in np.array(temp_bag)])\n",
    "    score = y_gmm \n",
    "    score = gmm.score_samples([list(x[0]) for x in np.array(temp_bag)]) \n",
    "    pct_threshold = np.percentile(score, 1.) \n",
    "    res = np.array([1 if x < pct_threshold else 0 for x in score]) \n",
    "    print(f'The threshold of the score in step {step} is {pct_threshold:.2f}, abnormal part: {res.sum()}') \n",
    "    \n",
    "    abnormal_portion = np.where(res == 1)[0]\n",
    "    normal_portion = np.where(res == 0)[0]\n",
    "    \n",
    "    abag += [(x[0], x[1]) for x in np.array(temp_bag)[abnormal_portion]]\n",
    "    nbag = [(x[0], x[1]) for x in np.array(temp_bag)[normal_portion]]\n",
    "\n",
    "    step += 1"
   ]
  },
  {
   "cell_type": "code",
   "execution_count": 390,
   "metadata": {},
   "outputs": [
    {
     "data": {
      "text/plain": [
       "(995, 614)"
      ]
     },
     "execution_count": 390,
     "metadata": {},
     "output_type": "execute_result"
    }
   ],
   "source": [
    "len(abag), len(nbag)"
   ]
  },
  {
   "cell_type": "code",
   "execution_count": 445,
   "metadata": {},
   "outputs": [
    {
     "name": "stdout",
     "output_type": "stream",
     "text": [
      "(513,) 818\n",
      "correctness acc:  0.6271393643031785\n"
     ]
    }
   ],
   "source": [
    "print(np.where(np.array([x[1] for x in abag]) < 810)[0].shape, len([x[1] for x in abag]))\n",
    "print('correctness acc: ', np.where(np.array([x[1] for x in abag]) < 810)[0].shape[0] / len([x[1] for x in abag]))"
   ]
  },
  {
   "cell_type": "code",
   "execution_count": 446,
   "metadata": {},
   "outputs": [
    {
     "name": "stdout",
     "output_type": "stream",
     "text": [
      "(493,) 791\n",
      "correctness acc:  0.6232616940581542\n"
     ]
    }
   ],
   "source": [
    "print(np.where(np.array([x[1] for x in nbag]) > 810)[0].shape, len([x[1] for x in nbag]))\n",
    "print('correctness acc: ', np.where(np.array([x[1] for x in nbag]) > 810)[0].shape[0] / len([x[1] for x in nbag]))"
   ]
  },
  {
   "cell_type": "code",
   "execution_count": 289,
   "metadata": {},
   "outputs": [
    {
     "data": {
      "text/plain": [
       "((799,), (13,))"
      ]
     },
     "execution_count": 289,
     "metadata": {},
     "output_type": "execute_result"
    }
   ],
   "source": [
    "np.where(res ==0)[0].shape, np.where(res ==1)[0].shape"
   ]
  },
  {
   "cell_type": "code",
   "execution_count": 37,
   "metadata": {},
   "outputs": [
    {
     "data": {
      "text/plain": [
       "((1609,), (1225,))"
      ]
     },
     "execution_count": 37,
     "metadata": {},
     "output_type": "execute_result"
    }
   ],
   "source": [
    "video_labels_1 = labels\n",
    "video_labels_2 = labels1\n",
    "video_labels_1.shape, video_labels_2.shape"
   ]
  },
  {
   "cell_type": "code",
   "execution_count": 38,
   "metadata": {},
   "outputs": [
    {
     "data": {
      "text/plain": [
       "((1609,), (1609,))"
      ]
     },
     "execution_count": 38,
     "metadata": {},
     "output_type": "execute_result"
    }
   ],
   "source": [
    "a = np.full(video_labels_1.shape[0] - video_labels_2.shape[0] ,1)\n",
    "video_labels_2 = np.concatenate((video_labels_2, a))\n",
    "video_labels_1.shape, video_labels_2.shape"
   ]
  },
  {
   "cell_type": "code",
   "execution_count": 447,
   "metadata": {},
   "outputs": [
    {
     "data": {
      "text/plain": [
       "(818.0, 1609)"
      ]
     },
     "execution_count": 447,
     "metadata": {},
     "output_type": "execute_result"
    }
   ],
   "source": [
    "temp = [k[1] for k in sorted([(x[1], 1.0) for x in abag] + [(x[1], 0.0) for x in nbag], key=lambda z: z[0])]\n",
    "sum(temp), len(temp)"
   ]
  },
  {
   "cell_type": "code",
   "execution_count": 134,
   "metadata": {},
   "outputs": [
    {
     "data": {
      "text/plain": [
       "(697, 912)"
      ]
     },
     "execution_count": 134,
     "metadata": {},
     "output_type": "execute_result"
    }
   ],
   "source": []
  },
  {
   "cell_type": "code",
   "execution_count": 464,
   "metadata": {},
   "outputs": [],
   "source": [
    "# normal set creation\n",
    "normal_set = {}\n",
    "\n",
    "for i in range(len(new_repr)):\n",
    "    if video_labels_2[i] == 0.0:\n",
    "        normal_set[i] = new_repr[i]"
   ]
  },
  {
   "cell_type": "code",
   "execution_count": 465,
   "metadata": {},
   "outputs": [],
   "source": [
    "# abnormal set creation\n",
    "abnormal_set = {}\n",
    "for i in range(len(new_repr)):\n",
    "    if video_labels_2[i] == 1.0:\n",
    "        abnormal_set[i] = new_repr[i]"
   ]
  },
  {
   "cell_type": "code",
   "execution_count": 466,
   "metadata": {},
   "outputs": [],
   "source": [
    "l2_norms_N = np.empty(0,)\n",
    "for (idel, sample) in normal_set.items():\n",
    "    \n",
    "    # print(sample.shape)\n",
    "    \n",
    "\n",
    "    l2_norms_N = np.append(l2_norms_N,get_matrix(sample))"
   ]
  },
  {
   "cell_type": "code",
   "execution_count": 467,
   "metadata": {},
   "outputs": [
    {
     "data": {
      "text/plain": [
       "(818, 791)"
      ]
     },
     "execution_count": 467,
     "metadata": {},
     "output_type": "execute_result"
    }
   ],
   "source": [
    "len(normal_set), len(abnormal_set)"
   ]
  },
  {
   "cell_type": "code",
   "execution_count": 468,
   "metadata": {},
   "outputs": [],
   "source": [
    "mu_GMM, var_GMM = estimate_gauss(np.array(l2_norms_N))"
   ]
  },
  {
   "cell_type": "code",
   "execution_count": 469,
   "metadata": {},
   "outputs": [],
   "source": [
    "# probability model\n",
    "from scipy.stats import multivariate_normal\n",
    "p = multivariate_normal(mu_GMM, var_GMM)"
   ]
  },
  {
   "cell_type": "code",
   "execution_count": 470,
   "metadata": {},
   "outputs": [],
   "source": [
    "ground_truth = {} \n",
    "length = 0.2 \n",
    "for (idel, sample) in abnormal_set.items(): \n",
    "\n",
    "    # feature extraction \n",
    "    # sample_matrix = np.sum(np.square(sample), axis=1)  # for just l2\n",
    "    sample_matrix = get_matrix(sample)\n",
    "    \n",
    "    # get p values\n",
    "    probs = p.pdf(sample_matrix)\n",
    "    temp_list = []\n",
    "    temp_list += [0.0] * len(probs)\n",
    "    \n",
    "    window_size = int(len(probs) * length)  # fixed\n",
    "    temp = []\n",
    "    for idx in range(0, len(probs) - window_size + 1):\n",
    "        arr = 0\n",
    "        for i in range(idx, idx + window_size - 1):\n",
    "            arr += abs(probs[i+1] - probs[i])\n",
    "        temp.append(arr)\n",
    "\n",
    "    for i in range(temp.index(max(temp)), temp.index(max(temp)) + window_size):\n",
    "        temp_list[i] = 1.0\n",
    "\n",
    "    ground_truth[idel] = temp_list"
   ]
  },
  {
   "cell_type": "code",
   "execution_count": 471,
   "metadata": {},
   "outputs": [],
   "source": [
    "final_gt = []\n",
    "abnormal_gt = []\n",
    "for i in range(len(new_repr)):\n",
    "    if i in normal_set.keys():\n",
    "        final_gt += [0.0] * new_repr[i].shape[0]\n",
    "    else:\n",
    "        final_gt += ground_truth[i]\n",
    "        abnormal_gt+= ground_truth[i]"
   ]
  },
  {
   "cell_type": "code",
   "execution_count": 472,
   "metadata": {},
   "outputs": [
    {
     "data": {
      "text/plain": [
       "779951"
      ]
     },
     "execution_count": 472,
     "metadata": {},
     "output_type": "execute_result"
    }
   ],
   "source": [
    "len(final_gt)"
   ]
  },
  {
   "cell_type": "code",
   "execution_count": 473,
   "metadata": {},
   "outputs": [],
   "source": [
    "np.save('unsupervised_PL/'+'UCF_labels_V2_w_20.npy', final_gt) #UCF\n",
    "# np.save('Unsup_labels/'+'XD_I3D_unsup_labels_10_V2_GMM.npy', final_gt) #XD"
   ]
  },
  {
   "cell_type": "markdown",
   "metadata": {},
   "source": [
    "## Random Video-level labels experiment "
   ]
  },
  {
   "cell_type": "code",
   "execution_count": 213,
   "metadata": {},
   "outputs": [
    {
     "data": {
      "text/plain": [
       "array([1, 1, 0, ..., 1, 1, 1])"
      ]
     },
     "execution_count": 213,
     "metadata": {},
     "output_type": "execute_result"
    }
   ],
   "source": [
    "# generate 1609 random weak labels either 0 or 1\n",
    "rand_temp = np.random.randint(2, size=1609)\n",
    "rand_temp"
   ]
  },
  {
   "cell_type": "code",
   "execution_count": 214,
   "metadata": {},
   "outputs": [],
   "source": [
    "# normal set creation\n",
    "normal_set_RS1FPL = {}\n",
    "\n",
    "for i in range(len(new_repr)):\n",
    "    if rand_temp[i] == 0:\n",
    "        normal_set_RS1FPL[i] = new_repr[i]"
   ]
  },
  {
   "cell_type": "code",
   "execution_count": 215,
   "metadata": {},
   "outputs": [],
   "source": [
    "# abnormal set creation\n",
    "abnormal_set_RS1FPL = {}\n",
    "for i in range(len(new_repr)):\n",
    "    if rand_temp[i] == 1:\n",
    "        abnormal_set_RS1FPL[i] = new_repr[i]"
   ]
  },
  {
   "cell_type": "code",
   "execution_count": 216,
   "metadata": {},
   "outputs": [
    {
     "data": {
      "text/plain": [
       "(471.58318012226385, array(21925.84901271))"
      ]
     },
     "execution_count": 216,
     "metadata": {},
     "output_type": "execute_result"
    }
   ],
   "source": [
    "l2_norms_N_RS1FPL = np.empty(0,)\n",
    "for (idel, sample) in normal_set_RS1FPL.items():\n",
    "    \n",
    "    # print(sample.shape)\n",
    "\n",
    "    l2_norms_N_RS1FPL = np.append(l2_norms_N_RS1FPL,get_matrix(sample))\n",
    "\n",
    "\n",
    "mu_GMM_RS1FPL, var_GMM_RS1FPL = estimate_gauss(np.array(l2_norms_N_RS1FPL))\n",
    "mu_GMM_RS1FPL, var_GMM_RS1FPL"
   ]
  },
  {
   "cell_type": "code",
   "execution_count": 221,
   "metadata": {},
   "outputs": [],
   "source": [
    "p_RS1FPL = multivariate_normal(mu_GMM_RS1FPL, var_GMM_RS1FPL)"
   ]
  },
  {
   "cell_type": "code",
   "execution_count": 222,
   "metadata": {},
   "outputs": [
    {
     "data": {
      "text/plain": [
       "912"
      ]
     },
     "execution_count": 222,
     "metadata": {},
     "output_type": "execute_result"
    }
   ],
   "source": [
    "ground_truth_RS1FPL = {} \n",
    "length = 0.2 \n",
    "\n",
    "for (idel, sample) in abnormal_set.items(): \n",
    "\n",
    "    # feature extraction \n",
    "    # sample_matrix = np.sum(np.square(sample), axis=1)  # for just l2\n",
    "    sample_matrix = get_matrix(sample)\n",
    "    \n",
    "    # get p values\n",
    "    probs = p_RS1FPL.pdf(sample_matrix)\n",
    "    temp_list = []\n",
    "    temp_list += [0.0] * len(probs)\n",
    "    \n",
    "    window_size = int(len(probs) * length)  # fixed\n",
    "    temp = []\n",
    "    for idx in range(0, len(probs) - window_size + 1):\n",
    "        arr = 0\n",
    "        for i in range(idx, idx + window_size - 1):\n",
    "            arr += abs(probs[i+1] - probs[i])\n",
    "        temp.append(arr)\n",
    "\n",
    "    for i in range(temp.index(max(temp)), temp.index(max(temp)) + window_size):\n",
    "        temp_list[i] = 1.0\n",
    "\n",
    "    ground_truth_RS1FPL[idel] = temp_list\n",
    "\n",
    "len(ground_truth_RS1FPL)"
   ]
  },
  {
   "cell_type": "code",
   "execution_count": 223,
   "metadata": {},
   "outputs": [
    {
     "ename": "KeyError",
     "evalue": "0",
     "output_type": "error",
     "traceback": [
      "\u001b[0;31m---------------------------------------------------------------------------\u001b[0m",
      "\u001b[0;31mKeyError\u001b[0m                                  Traceback (most recent call last)",
      "\u001b[1;32m/home/anas.al-lahham/AD_Unsupervised/Unsupervised_experiments.ipynb Cell 43\u001b[0m in \u001b[0;36m<cell line: 3>\u001b[0;34m()\u001b[0m\n\u001b[1;32m      <a href='vscode-notebook-cell://ssh-remote%2B10.127.30.202/home/anas.al-lahham/AD_Unsupervised/Unsupervised_experiments.ipynb#Y145sdnNjb2RlLXJlbW90ZQ%3D%3D?line=4'>5</a>\u001b[0m         final_gt_RS1FPL \u001b[39m+\u001b[39m\u001b[39m=\u001b[39m [\u001b[39m0.0\u001b[39m] \u001b[39m*\u001b[39m new_repr[i]\u001b[39m.\u001b[39mshape[\u001b[39m0\u001b[39m]\n\u001b[1;32m      <a href='vscode-notebook-cell://ssh-remote%2B10.127.30.202/home/anas.al-lahham/AD_Unsupervised/Unsupervised_experiments.ipynb#Y145sdnNjb2RlLXJlbW90ZQ%3D%3D?line=5'>6</a>\u001b[0m     \u001b[39melse\u001b[39;00m:\n\u001b[0;32m----> <a href='vscode-notebook-cell://ssh-remote%2B10.127.30.202/home/anas.al-lahham/AD_Unsupervised/Unsupervised_experiments.ipynb#Y145sdnNjb2RlLXJlbW90ZQ%3D%3D?line=6'>7</a>\u001b[0m         final_gt_RS1FPL \u001b[39m+\u001b[39m\u001b[39m=\u001b[39m ground_truth_RS1FPL[i]\n\u001b[1;32m      <a href='vscode-notebook-cell://ssh-remote%2B10.127.30.202/home/anas.al-lahham/AD_Unsupervised/Unsupervised_experiments.ipynb#Y145sdnNjb2RlLXJlbW90ZQ%3D%3D?line=7'>8</a>\u001b[0m         abnormal_gt_RS1FPL\u001b[39m+\u001b[39m\u001b[39m=\u001b[39m ground_truth_RS1FPL[i]\n\u001b[1;32m     <a href='vscode-notebook-cell://ssh-remote%2B10.127.30.202/home/anas.al-lahham/AD_Unsupervised/Unsupervised_experiments.ipynb#Y145sdnNjb2RlLXJlbW90ZQ%3D%3D?line=9'>10</a>\u001b[0m \u001b[39mlen\u001b[39m(final_gt_RS1FPL)\n",
      "\u001b[0;31mKeyError\u001b[0m: 0"
     ]
    }
   ],
   "source": [
    "final_gt_RS1FPL = []\n",
    "abnormal_gt_RS1FPL = []\n",
    "for i in range(len(new_repr)):\n",
    "    if i in normal_set_RS1FPL.keys():\n",
    "        final_gt_RS1FPL += [0.0] * new_repr[i].shape[0]\n",
    "    else:\n",
    "        final_gt_RS1FPL += ground_truth_RS1FPL[i]\n",
    "        abnormal_gt_RS1FPL+= ground_truth_RS1FPL[i]\n",
    "\n",
    "len(final_gt_RS1FPL)"
   ]
  },
  {
   "cell_type": "code",
   "execution_count": null,
   "metadata": {},
   "outputs": [],
   "source": [
    "np.save('unsupervised_PL/'+'UCF_labels_RS1FPL.npy', final_gt_RS1FPL) #UCF\n"
   ]
  },
  {
   "cell_type": "markdown",
   "metadata": {},
   "source": [
    "## Random Video-level labels experiment "
   ]
  },
  {
   "cell_type": "code",
   "execution_count": 168,
   "metadata": {},
   "outputs": [],
   "source": [
    "con_test = np.load(\"/home/anas.al-lahham/AnomalyDetection/RTFM/10_crop_features/Concat_test_10.npy\")"
   ]
  },
  {
   "cell_type": "code",
   "execution_count": 180,
   "metadata": {},
   "outputs": [
    {
     "data": {
      "text/plain": [
       "(69634, 10, 2048)"
      ]
     },
     "execution_count": 180,
     "metadata": {},
     "output_type": "execute_result"
    }
   ],
   "source": [
    "con_test.shape"
   ]
  },
  {
   "cell_type": "code",
   "execution_count": 67,
   "metadata": {},
   "outputs": [],
   "source": [
    "n_train_crop_features = get_matrix(train_data[:580699])\n",
    "mu, var = estimate_gauss(n_train_crop_features)"
   ]
  },
  {
   "cell_type": "code",
   "execution_count": 68,
   "metadata": {},
   "outputs": [],
   "source": [
    "p = multivariate_normal(mu, var)"
   ]
  },
  {
   "cell_type": "code",
   "execution_count": 175,
   "metadata": {},
   "outputs": [],
   "source": [
    "videos_list = '/home/anas.al-lahham/AD_Unsupervised/list/ucf-i3d-test.list'\n",
    "videos_list = list(open(videos_list))"
   ]
  },
  {
   "cell_type": "code",
   "execution_count": 176,
   "metadata": {},
   "outputs": [],
   "source": [
    "cnt = 0\n",
    "tlist = []\n",
    "for filename in videos_list:\n",
    "    filename = filename.strip('\\n')\n",
    "    sample = np.load(filename)\n",
    "\n",
    "    length = len(sample)\n",
    "    tlist.append((cnt, cnt + length))\n",
    "    cnt += length"
   ]
  },
  {
   "cell_type": "code",
   "execution_count": null,
   "metadata": {},
   "outputs": [],
   "source": [
    "new_repr_test = []\n",
    "for i, (fromid, toid) in enumerate(tlist):\n",
    "    new_repr.append(con_test[fromid:toid])"
   ]
  },
  {
   "cell_type": "code",
   "execution_count": 185,
   "metadata": {},
   "outputs": [],
   "source": [
    "ground_truth = [] \n",
    "length = 0.2 \n",
    "for filename in videos_list: \n",
    "    filename = filename.strip('\\n')\n",
    "    sample = np.load(filename)\n",
    "\n",
    "    # feature extraction \n",
    "    # sample_matrix = np.sum(np.square(sample), axis=1)  # for just l2\n",
    "    sample_matrix = get_matrix(sample)\n",
    "    \n",
    "    # get p values\n",
    "    # get p values\n",
    "    probs = p.pdf(sample_matrix)\n",
    "\n",
    "\n",
    "\n",
    "    temp_list = []\n",
    "    temp_list += [0.0] * len(probs)\n",
    "    \n",
    "\n",
    "    window_size = int(len(probs) * length)  # fixed\n",
    "    temp = []\n",
    "    for idx in range(0, len(probs) - window_size + 1):\n",
    "        arr = 0\n",
    "        for i in range(idx, idx + window_size - 1):\n",
    "            arr += abs(probs[i+1] - probs[i])\n",
    "        temp.append(arr)\n",
    "\n",
    "    for i in range(temp.index(max(temp)), temp.index(max(temp)) + window_size):\n",
    "        temp_list[i] = 1.0\n",
    "\n",
    "    ground_truth += temp_list"
   ]
  },
  {
   "cell_type": "code",
   "execution_count": 186,
   "metadata": {},
   "outputs": [
    {
     "data": {
      "text/plain": [
       "69634"
      ]
     },
     "execution_count": 186,
     "metadata": {},
     "output_type": "execute_result"
    }
   ],
   "source": [
    "len(ground_truth)"
   ]
  },
  {
   "cell_type": "code",
   "execution_count": 78,
   "metadata": {},
   "outputs": [],
   "source": [
    "from sklearn.metrics import auc, roc_curve, precision_recall_curve\n"
   ]
  },
  {
   "cell_type": "code",
   "execution_count": 187,
   "metadata": {},
   "outputs": [
    {
     "data": {
      "text/plain": [
       "array([0., 0., 0., ..., 0., 0., 0.])"
      ]
     },
     "execution_count": 187,
     "metadata": {},
     "output_type": "execute_result"
    }
   ],
   "source": [
    "np.array(ground_truth)"
   ]
  },
  {
   "cell_type": "code",
   "execution_count": 192,
   "metadata": {},
   "outputs": [
    {
     "data": {
      "text/plain": [
       "0.555282502799467"
      ]
     },
     "execution_count": 192,
     "metadata": {},
     "output_type": "execute_result"
    }
   ],
   "source": [
    "gt = np.load('list/gt-ucf-RTFM.npy')\n",
    "# print(gt.shape)\n",
    "pred = list(np.array(ground_truth))\n",
    "pred = np.repeat(np.array(pred), 16)\n",
    "# gt = gt[:len(pred)] \n",
    "\n",
    "fpr, tpr, threshold = roc_curve(list(gt), pred)\n",
    "\n",
    "\n",
    "rec_auc = auc(fpr, tpr)\n",
    "rec_auc"
   ]
  },
  {
   "cell_type": "code",
   "execution_count": 194,
   "metadata": {},
   "outputs": [
    {
     "data": {
      "text/plain": [
       "(779951,)"
      ]
     },
     "execution_count": 194,
     "metadata": {},
     "output_type": "execute_result"
    }
   ],
   "source": [
    "ground_truth = np.concatenate((np.zeros(580699),np.ones(779951-580699)))\n",
    "ground_truth.shape"
   ]
  },
  {
   "cell_type": "code",
   "execution_count": 195,
   "metadata": {},
   "outputs": [],
   "source": [
    "np.save('unsupervised_PL/'+'UCF_labels_GTVSPL.npy', ground_truth)"
   ]
  },
  {
   "cell_type": "markdown",
   "metadata": {},
   "source": [
    "### Video-level pseudo-labels are directly attributed to the segments without refinement\n"
   ]
  },
  {
   "cell_type": "code",
   "execution_count": 13,
   "metadata": {},
   "outputs": [
    {
     "data": {
      "text/plain": [
       "(779951,)"
      ]
     },
     "execution_count": 13,
     "metadata": {},
     "output_type": "execute_result"
    }
   ],
   "source": [
    "pseudo_labels = np.load('Unsup_labels/UCF_unsup_labels_original_V2.npy')\n",
    "pseudo_labels.shape"
   ]
  },
  {
   "cell_type": "code",
   "execution_count": 69,
   "metadata": {},
   "outputs": [],
   "source": [
    "all_list = list(open('list/ucf-i3d.list'))"
   ]
  },
  {
   "cell_type": "code",
   "execution_count": null,
   "metadata": {},
   "outputs": [],
   "source": [
    "cnt = 0\n",
    "nlist = []\n",
    "for video in all_list:\n",
    "    location = video.strip('\\n')\n",
    "    sample = np.load(location)\n",
    "\n",
    "    length = len(sample)\n",
    "    nlist.append((cnt, cnt + length))\n",
    "    "
   ]
  },
  {
   "cell_type": "code",
   "execution_count": 201,
   "metadata": {},
   "outputs": [
    {
     "data": {
      "text/plain": [
       "779951"
      ]
     },
     "execution_count": 201,
     "metadata": {},
     "output_type": "execute_result"
    }
   ],
   "source": [
    "cnt = 0\n",
    "GTVSPL_ground_truth = []\n",
    "for video in all_list:\n",
    "    location = video.strip('\\n')\n",
    "    sample = np.load(location)\n",
    "\n",
    "    length = len(sample)\n",
    "    if np.sum(pseudo_labels[cnt:cnt+length]) == 0:\n",
    "        GTVSPL_ground_truth+= [0.0] * length\n",
    "\n",
    "    else:\n",
    "        GTVSPL_ground_truth+= [1.0] * length\n",
    "    cnt += length\n",
    "len(GTVSPL_ground_truth)"
   ]
  },
  {
   "cell_type": "code",
   "execution_count": 202,
   "metadata": {},
   "outputs": [],
   "source": [
    "np.save('unsupervised_PL/'+'UCF_labels_GTVSPL.npy', GTVSPL_ground_truth)"
   ]
  },
  {
   "cell_type": "code",
   "execution_count": 204,
   "metadata": {},
   "outputs": [
    {
     "data": {
      "text/plain": [
       "460706.0"
      ]
     },
     "execution_count": 204,
     "metadata": {},
     "output_type": "execute_result"
    }
   ],
   "source": [
    "np.sum(GTVSPL_ground_truth)"
   ]
  },
  {
   "cell_type": "markdown",
   "metadata": {},
   "source": [
    "### (1 – p-value) is used as anomaly score\n"
   ]
  },
  {
   "cell_type": "code",
   "execution_count": 55,
   "metadata": {},
   "outputs": [
    {
     "data": {
      "text/plain": [
       "49404.0"
      ]
     },
     "execution_count": 55,
     "metadata": {},
     "output_type": "execute_result"
    }
   ],
   "source": [
    "pseudo_labels = np.load('Unsup_labels/UCF_unsup_labels_original_V2.npy')\n",
    "pseudo_labels[:].sum()"
   ]
  },
  {
   "cell_type": "code",
   "execution_count": 15,
   "metadata": {},
   "outputs": [],
   "source": [
    "cnt = 0\n",
    "normal_set_C2PLnoAD = {}\n",
    "abnormal_set_C2PLnoAD = {}\n",
    "for i,video in enumerate(all_list):\n",
    "   location = video.strip('\\n')\n",
    "   sample = np.load(location)\n",
    "\n",
    "   length = len(sample)\n",
    "   if np.sum(pseudo_labels[cnt:cnt+length]) == 0:\n",
    "      normal_set_C2PLnoAD[i] = new_repr[i]\n",
    "   else:\n",
    "      abnormal_set_C2PLnoAD[i] = new_repr[i]\n",
    "      \n",
    "\n",
    "\n",
    "   cnt += length\n",
    "    # break"
   ]
  },
  {
   "cell_type": "code",
   "execution_count": 32,
   "metadata": {},
   "outputs": [
    {
     "data": {
      "text/plain": [
       "(1344, 265)"
      ]
     },
     "execution_count": 32,
     "metadata": {},
     "output_type": "execute_result"
    }
   ],
   "source": [
    "len(normal_set_C2PLnoAD), len(abnormal_set_C2PLnoAD)"
   ]
  },
  {
   "cell_type": "code",
   "execution_count": 22,
   "metadata": {},
   "outputs": [
    {
     "data": {
      "text/plain": [
       "1609"
      ]
     },
     "execution_count": 22,
     "metadata": {},
     "output_type": "execute_result"
    }
   ],
   "source": [
    "1344+265"
   ]
  },
  {
   "cell_type": "code",
   "execution_count": 56,
   "metadata": {},
   "outputs": [
    {
     "data": {
      "text/plain": [
       "(470.0228566776129, array(23322.21063255))"
      ]
     },
     "execution_count": 56,
     "metadata": {},
     "output_type": "execute_result"
    }
   ],
   "source": [
    "l2_norms_N_C2PLnoAD = np.empty(0,)\n",
    "for (idel, sample) in normal_set_C2PLnoAD.items():\n",
    "    \n",
    "    # print(sample.shape)\n",
    "\n",
    "    l2_norms_N_C2PLnoAD = np.append(l2_norms_N_C2PLnoAD,get_matrix(sample))\n",
    "\n",
    "\n",
    "mu_GMM_C2PLnoAD , var_GMM_C2PLnoAD  = estimate_gauss(np.array(l2_norms_N_C2PLnoAD))\n",
    "mu_GMM_C2PLnoAD , var_GMM_C2PLnoAD "
   ]
  },
  {
   "cell_type": "code",
   "execution_count": 57,
   "metadata": {},
   "outputs": [],
   "source": [
    "p_C2PLnoAD  = multivariate_normal(mu_GMM_C2PLnoAD , var_GMM_C2PLnoAD )"
   ]
  },
  {
   "cell_type": "code",
   "execution_count": 58,
   "metadata": {},
   "outputs": [],
   "source": [
    "videos_list = '/home/anas.al-lahham/AD_Unsupervised/list/ucf-i3d-test.list'\n",
    "videos_list = list(open(videos_list))"
   ]
  },
  {
   "cell_type": "code",
   "execution_count": 89,
   "metadata": {},
   "outputs": [],
   "source": [
    "ground_truth = [] \n",
    "p_value = []\n",
    "length = 0.2 \n",
    "for filename in videos_list: \n",
    "    filename = filename.strip('\\n')\n",
    "    sample = np.load(filename)\n",
    "\n",
    "    # feature extraction \n",
    "    # sample_matrix = np.sum(np.square(sample), axis=1)  # for just l2\n",
    "    sample_matrix = get_matrix(sample)\n",
    "    \n",
    "    # get p values\n",
    "    # get p values\n",
    "    probs = p_C2PLnoAD.pdf(sample_matrix)\n",
    "    \n",
    "    p_value = np.append(p_value, probs)\n",
    "\n",
    "    temp_list = []\n",
    "    temp_list += [0.0] * len(probs)\n",
    "    \n",
    "\n",
    "    window_size = int(len(probs) * length)  # fixed\n",
    "    temp = []\n",
    "    for idx in range(0, len(probs) - window_size + 1):\n",
    "        arr = 0\n",
    "        for i in range(idx, idx + window_size - 1):\n",
    "            arr += abs(probs[i+1] - probs[i])\n",
    "        temp.append(arr)\n",
    "\n",
    "    for i in range(temp.index(max(temp)), temp.index(max(temp)) + window_size):\n",
    "        temp_list[i] = 1.0\n",
    "\n",
    "    ground_truth += temp_list"
   ]
  },
  {
   "cell_type": "code",
   "execution_count": 90,
   "metadata": {},
   "outputs": [
    {
     "data": {
      "text/plain": [
       "array([0.00183811, 0.00259383, 0.00242731, ..., 0.00253679, 0.00243207,\n",
       "       0.00245818])"
      ]
     },
     "execution_count": 90,
     "metadata": {},
     "output_type": "execute_result"
    }
   ],
   "source": [
    "p_value"
   ]
  },
  {
   "cell_type": "code",
   "execution_count": 54,
   "metadata": {},
   "outputs": [],
   "source": [
    "for k in range(10, 55, 5):\n",
    "\n",
    "\n",
    "    ground_truth_C2PLnoAD = {} \n",
    "    length = k/100\n",
    "\n",
    "    for (idel, sample) in abnormal_set_C2PLnoAD.items(): \n",
    "\n",
    "        # feature extraction \n",
    "        # sample_matrix = np.sum(np.square(sample), axis=1)  # for just l2\n",
    "        sample_matrix = get_matrix(sample)\n",
    "        \n",
    "        # get p values\n",
    "        probs = p_C2PLnoAD.pdf(sample_matrix)\n",
    "        temp_list = []\n",
    "        temp_list += [0.0] * len(probs)\n",
    "        \n",
    "        window_size = int(len(probs) * length)  # fixed\n",
    "        temp = []\n",
    "        for idx in range(0, len(probs) - window_size + 1):\n",
    "            arr = 0\n",
    "            for i in range(idx, idx + window_size - 1):\n",
    "                arr += abs(probs[i+1] - probs[i])\n",
    "            temp.append(arr)\n",
    "        # print(temp)\n",
    "        for i in range(temp.index(max(temp)), temp.index(max(temp)) + window_size):\n",
    "            temp_list[i] = 1.0\n",
    "\n",
    "        ground_truth_C2PLnoAD[idel] = temp_list\n",
    "\n",
    "    \n",
    "\n",
    "    final_gt_C2PLnoAD = []\n",
    "    abnormal_gt_C2PLnoAD = []\n",
    "    for i in range(len(new_repr)):\n",
    "        if i in normal_set_C2PLnoAD.keys():\n",
    "            final_gt_C2PLnoAD += [0.0] * new_repr[i].shape[0]\n",
    "        else:\n",
    "            final_gt_C2PLnoAD += ground_truth_C2PLnoAD[i]\n",
    "            abnormal_gt_C2PLnoAD+= ground_truth_C2PLnoAD[i]\n",
    "\n",
    "    \n",
    "\n",
    "\n",
    "    np.save('unsupervised_PL/'+f'UCF_labels_best_w_{k}.npy', final_gt_C2PLnoAD) #UCF"
   ]
  },
  {
   "cell_type": "code",
   "execution_count": 45,
   "metadata": {},
   "outputs": [
    {
     "data": {
      "text/plain": [
       "779951"
      ]
     },
     "execution_count": 45,
     "metadata": {},
     "output_type": "execute_result"
    }
   ],
   "source": []
  },
  {
   "cell_type": "code",
   "execution_count": 46,
   "metadata": {},
   "outputs": [],
   "source": [
    "np.save('unsupervised_PL/'+'UCF_labels_best_w_15.npy', final_gt_C2PLnoAD) #UCF"
   ]
  },
  {
   "cell_type": "code",
   "execution_count": 97,
   "metadata": {},
   "outputs": [
    {
     "data": {
      "text/plain": [
       "0.5701699716944959"
      ]
     },
     "execution_count": 97,
     "metadata": {},
     "output_type": "execute_result"
    }
   ],
   "source": [
    "gt = np.load('list/gt-ucf-RTFM.npy')\n",
    "# print(gt.shape)\n",
    "# pred = list(np.array(ground_truth))\n",
    "pred = np.repeat(np.array(p_value), 16)\n",
    "# gt = gt[:len(pred)] \n",
    "\n",
    "fpr, tpr, threshold = roc_curve(list(gt), pred)\n",
    "\n",
    "\n",
    "rec_auc = auc(fpr, tpr)\n",
    "rec_auc"
   ]
  },
  {
   "cell_type": "code",
   "execution_count": 96,
   "metadata": {},
   "outputs": [],
   "source": [
    "ground_truth = [] \n",
    "p_value = []\n",
    "length = 0.2 \n",
    "for filename in videos_list: \n",
    "    filename = filename.strip('\\n')\n",
    "    sample = np.load(filename)\n",
    "\n",
    "    # feature extraction \n",
    "    # sample_matrix = np.sum(np.square(sample), axis=1)  # for just l2\n",
    "    sample_matrix = get_matrix(sample)\n",
    "    \n",
    "    # get p values\n",
    "    # get p values\n",
    "    probs = p.pdf(sample_matrix)\n",
    "    \n",
    "    p_value = np.append(p_value, probs)\n",
    "\n",
    "    temp_list = []\n",
    "    temp_list += [0.0] * len(probs)\n",
    "    \n",
    "\n",
    "    window_size = int(len(probs) * length)  # fixed\n",
    "    temp = []\n",
    "    for idx in range(0, len(probs) - window_size + 1):\n",
    "        arr = 0\n",
    "        for i in range(idx, idx + window_size - 1):\n",
    "            arr += abs(probs[i+1] - probs[i])\n",
    "        temp.append(arr)\n",
    "\n",
    "    for i in range(temp.index(max(temp)), temp.index(max(temp)) + window_size):\n",
    "        temp_list[i] = 1.0\n",
    "\n",
    "    ground_truth += temp_list"
   ]
  },
  {
   "cell_type": "code",
   "execution_count": 73,
   "metadata": {},
   "outputs": [
    {
     "ename": "KeyboardInterrupt",
     "evalue": "",
     "output_type": "error",
     "traceback": [
      "\u001b[0;31m---------------------------------------------------------------------------\u001b[0m",
      "\u001b[0;31mKeyboardInterrupt\u001b[0m                         Traceback (most recent call last)",
      "\u001b[1;32m/home/anas.al-lahham/AD_Unsupervised/Unsupervised_experiments.ipynb Cell 90\u001b[0m in \u001b[0;36m<cell line: 4>\u001b[0;34m()\u001b[0m\n\u001b[1;32m     <a href='vscode-notebook-cell://ssh-remote%2B10.127.30.202/home/anas.al-lahham/AD_Unsupervised/Unsupervised_experiments.ipynb#Y165sdnNjb2RlLXJlbW90ZQ%3D%3D?line=24'>25</a>\u001b[0m     arr \u001b[39m=\u001b[39m \u001b[39m0\u001b[39m\n\u001b[1;32m     <a href='vscode-notebook-cell://ssh-remote%2B10.127.30.202/home/anas.al-lahham/AD_Unsupervised/Unsupervised_experiments.ipynb#Y165sdnNjb2RlLXJlbW90ZQ%3D%3D?line=25'>26</a>\u001b[0m     \u001b[39mfor\u001b[39;00m i \u001b[39min\u001b[39;00m \u001b[39mrange\u001b[39m(idx, idx \u001b[39m+\u001b[39m window_size \u001b[39m-\u001b[39m \u001b[39m1\u001b[39m):\n\u001b[0;32m---> <a href='vscode-notebook-cell://ssh-remote%2B10.127.30.202/home/anas.al-lahham/AD_Unsupervised/Unsupervised_experiments.ipynb#Y165sdnNjb2RlLXJlbW90ZQ%3D%3D?line=26'>27</a>\u001b[0m         arr \u001b[39m+\u001b[39m\u001b[39m=\u001b[39m \u001b[39mabs\u001b[39;49m(probs[i\u001b[39m+\u001b[39;49m\u001b[39m1\u001b[39;49m] \u001b[39m-\u001b[39;49m probs[i])\n\u001b[1;32m     <a href='vscode-notebook-cell://ssh-remote%2B10.127.30.202/home/anas.al-lahham/AD_Unsupervised/Unsupervised_experiments.ipynb#Y165sdnNjb2RlLXJlbW90ZQ%3D%3D?line=27'>28</a>\u001b[0m     temp\u001b[39m.\u001b[39mappend(arr)\n\u001b[1;32m     <a href='vscode-notebook-cell://ssh-remote%2B10.127.30.202/home/anas.al-lahham/AD_Unsupervised/Unsupervised_experiments.ipynb#Y165sdnNjb2RlLXJlbW90ZQ%3D%3D?line=29'>30</a>\u001b[0m \u001b[39mfor\u001b[39;00m i \u001b[39min\u001b[39;00m \u001b[39mrange\u001b[39m(temp\u001b[39m.\u001b[39mindex(\u001b[39mmax\u001b[39m(temp)), temp\u001b[39m.\u001b[39mindex(\u001b[39mmax\u001b[39m(temp)) \u001b[39m+\u001b[39m window_size):\n",
      "\u001b[0;31mKeyboardInterrupt\u001b[0m: "
     ]
    }
   ],
   "source": [
    "ground_truth = [] \n",
    "\n",
    "length = 0.15 \n",
    "for filename in all_list: \n",
    "    filename = filename.strip('\\n')\n",
    "    sample = np.load(filename)\n",
    "\n",
    "    # feature extraction \n",
    "    # sample_matrix = np.sum(np.square(sample), axis=1)  # for just l2\n",
    "    sample_matrix = get_matrix(sample)\n",
    "    \n",
    "    # get p values\n",
    "    # get p values\n",
    "    probs = p.pdf(sample_matrix)\n",
    "    \n",
    "\n",
    "\n",
    "    temp_list = []\n",
    "    temp_list += [0.0] * len(probs)\n",
    "    \n",
    "\n",
    "    window_size = int(len(probs) * length)  # fixed\n",
    "    temp = []\n",
    "    for idx in range(0, len(probs) - window_size + 1):\n",
    "        arr = 0\n",
    "        for i in range(idx, idx + window_size - 1):\n",
    "            arr += abs(probs[i+1] - probs[i])\n",
    "        temp.append(arr)\n",
    "\n",
    "    for i in range(temp.index(max(temp)), temp.index(max(temp)) + window_size):\n",
    "        temp_list[i] = 1.0\n",
    "\n",
    "    ground_truth += temp_list"
   ]
  },
  {
   "cell_type": "code",
   "execution_count": null,
   "metadata": {},
   "outputs": [
    {
     "data": {
      "text/plain": [
       "779951"
      ]
     },
     "execution_count": 71,
     "metadata": {},
     "output_type": "execute_result"
    }
   ],
   "source": [
    "len(ground_truth)"
   ]
  },
  {
   "cell_type": "code",
   "execution_count": null,
   "metadata": {},
   "outputs": [],
   "source": [
    "np.save('unsupervised_PL/'+'UCF_labels_OCC_w_15.npy', ground_truth) #UCF"
   ]
  },
  {
   "cell_type": "code",
   "execution_count": null,
   "metadata": {},
   "outputs": [],
   "source": []
  }
 ],
 "metadata": {
  "kernelspec": {
   "display_name": "Python 3 (ipykernel)",
   "language": "python",
   "name": "python3"
  },
  "language_info": {
   "codemirror_mode": {
    "name": "ipython",
    "version": 3
   },
   "file_extension": ".py",
   "mimetype": "text/x-python",
   "name": "python",
   "nbconvert_exporter": "python",
   "pygments_lexer": "ipython3",
   "version": "3.9.13"
  }
 },
 "nbformat": 4,
 "nbformat_minor": 2
}
